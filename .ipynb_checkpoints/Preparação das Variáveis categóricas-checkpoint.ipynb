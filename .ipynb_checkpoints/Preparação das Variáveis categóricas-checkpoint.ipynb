{
 "cells": [
  {
   "cell_type": "code",
   "execution_count": 26,
   "id": "514fc4b9",
   "metadata": {},
   "outputs": [],
   "source": [
    "import pandas as pd\n",
    "import numpy as np\n",
    "from sklearn.linear_model import LinearRegression\n",
    "from sklearn.preprocessing import PolynomialFeatures,OneHotEncoder\n",
    "from matplotlib import pyplot as plt\n",
    "from category_encoders.one_hot import OrdinalEncoder\n",
    "import category_encoders as ce\n",
    "from sklearn.model_selection import train_test_split"
   ]
  },
  {
   "cell_type": "code",
   "execution_count": 27,
   "id": "35fb265f",
   "metadata": {},
   "outputs": [
    {
     "data": {
      "text/plain": [
       "'\\n#   Column         Dtype  \\n---  ------         -----  \\n 2   MSZoning       object  - One-Hot Encodings\\n 5   Street         object  - One-Hot Encodings\\n 6   Alley          object  - One-Hot Encodings\\n 7   LotShape       object  - OrdinalEncoder\\n 8   LandContour    object  - OrdinalEncoder\\n 9   Utilities      object  - OrdinalEncoder\\n 10  LotConfig      object  - One-Hot Encodings\\n 11  LandSlope      object  - OrdinalEncoder\\n 12  Neighborhood   object  - One-Hot Encodings\\n 13  Condition1     object  - One-Hot Encodings\\n 14  Condition2     object  - One-Hot Encodings\\n 15  BldgType       object  - One-Hot Encodings\\n 16  HouseStyle     object  - OrdinalEncoder\\n 21  RoofStyle      object  - One-Hot Encodings/ OrdinalEncoder\\n 22  RoofMatl       object  - One-Hot Encodings\\n 23  Exterior1st    object  - One-Hot Encodings\\n 24  Exterior2nd    object  - One-Hot Encodings\\n 25  MasVnrType     object  - One-Hot Encodings\\n 27  ExterQual      object  - OrdinalEncoder\\n 28  ExterCond      object  - OrdinalEncoder\\n 29  Foundation     object  - One-Hot Encodings\\n 30  BsmtQual       object  - OrdinalEncoder\\n 31  BsmtCond       object  - OrdinalEncoder\\n 32  BsmtExposure   object  - OrdinalEncoder\\n 33  BsmtFinType1   object  - OrdinalEncoder\\n 35  BsmtFinType2   object  - OrdinalEncoder\\n 39  Heating        object  - One-Hot Encodings/ OrdinalEncoder\\n 40  HeatingQC      object  - OrdinalEncoder\\n 41  CentralAir     object  - One-Hot Encodings\\n 42  Electrical     object  - OrdinalEncoder\\n 53  KitchenQual    object  - OrdinalEncoder\\n 55  Functional     object  - OrdinalEncoder\\n 57  FireplaceQu    object  - OrdinalEncoder\\n 58  GarageType     object  - One-Hot Encodings\\n 60  GarageFinish   object  - OrdinalEncoder\\n 63  GarageQual     object  - OrdinalEncoder\\n 64  GarageCond     object  - OrdinalEncoder\\n 65  PavedDrive     object  - OrdinalEncoder\\n 72  PoolQC         object  - OrdinalEncoder\\n 73  Fence          object  - OrdinalEncoder\\n 74  MiscFeature    object  - One-Hot Encodings\\n 78  SaleType       object  - One-Hot Encodings\\n 79  SaleCondition  object  - One-Hot Encodings\\n'"
      ]
     },
     "execution_count": 27,
     "metadata": {},
     "output_type": "execute_result"
    }
   ],
   "source": [
    "# Variáveis categóricas\n",
    "\"\"\"\n",
    "#   Column         Dtype  \n",
    "---  ------         -----  \n",
    " 2   MSZoning       object  - One-Hot Encodings\n",
    " 5   Street         object  - One-Hot Encodings\n",
    " 6   Alley          object  - One-Hot Encodings\n",
    " 7   LotShape       object  - OrdinalEncoder\n",
    " 8   LandContour    object  - OrdinalEncoder\n",
    " 9   Utilities      object  - OrdinalEncoder\n",
    " 10  LotConfig      object  - One-Hot Encodings\n",
    " 11  LandSlope      object  - OrdinalEncoder\n",
    " 12  Neighborhood   object  - One-Hot Encodings\n",
    " 13  Condition1     object  - One-Hot Encodings\n",
    " 14  Condition2     object  - One-Hot Encodings\n",
    " 15  BldgType       object  - One-Hot Encodings\n",
    " 16  HouseStyle     object  - OrdinalEncoder\n",
    " 21  RoofStyle      object  - One-Hot Encodings/ OrdinalEncoder\n",
    " 22  RoofMatl       object  - One-Hot Encodings\n",
    " 23  Exterior1st    object  - One-Hot Encodings\n",
    " 24  Exterior2nd    object  - One-Hot Encodings\n",
    " 25  MasVnrType     object  - One-Hot Encodings\n",
    " 27  ExterQual      object  - OrdinalEncoder\n",
    " 28  ExterCond      object  - OrdinalEncoder\n",
    " 29  Foundation     object  - One-Hot Encodings\n",
    " 30  BsmtQual       object  - OrdinalEncoder\n",
    " 31  BsmtCond       object  - OrdinalEncoder\n",
    " 32  BsmtExposure   object  - OrdinalEncoder\n",
    " 33  BsmtFinType1   object  - OrdinalEncoder\n",
    " 35  BsmtFinType2   object  - OrdinalEncoder\n",
    " 39  Heating        object  - One-Hot Encodings/ OrdinalEncoder\n",
    " 40  HeatingQC      object  - OrdinalEncoder\n",
    " 41  CentralAir     object  - One-Hot Encodings\n",
    " 42  Electrical     object  - OrdinalEncoder\n",
    " 53  KitchenQual    object  - OrdinalEncoder\n",
    " 55  Functional     object  - OrdinalEncoder\n",
    " 57  FireplaceQu    object  - OrdinalEncoder\n",
    " 58  GarageType     object  - One-Hot Encodings\n",
    " 60  GarageFinish   object  - OrdinalEncoder\n",
    " 63  GarageQual     object  - OrdinalEncoder\n",
    " 64  GarageCond     object  - OrdinalEncoder\n",
    " 65  PavedDrive     object  - OrdinalEncoder\n",
    " 72  PoolQC         object  - OrdinalEncoder\n",
    " 73  Fence          object  - OrdinalEncoder\n",
    " 74  MiscFeature    object  - One-Hot Encodings\n",
    " 78  SaleType       object  - One-Hot Encodings\n",
    " 79  SaleCondition  object  - One-Hot Encodings\n",
    "\"\"\""
   ]
  },
  {
   "cell_type": "code",
   "execution_count": 28,
   "id": "0d25b0cc",
   "metadata": {},
   "outputs": [],
   "source": [
    "newDataframe = pd.read_csv(\"/home/max/Documentos/Aprendizado de máquina/Preco de casas/Casas/train.csv\")\n"
   ]
  },
  {
   "cell_type": "code",
   "execution_count": 29,
   "id": "3412eb81",
   "metadata": {},
   "outputs": [],
   "source": [
    "#Tratando valores faltantes\n",
    "newDataframe['Alley'] = newDataframe['Alley'].replace(np.nan, \"None\")\n",
    "#MasVnrType\n",
    "newDataframe['MasVnrType'] = newDataframe['MasVnrType'].replace(np.nan, \"None\")\n",
    "#GarageType\n",
    "newDataframe['GarageType'] = newDataframe['GarageType'].replace(np.nan, \"None\")\n",
    "#MiscFeature\n",
    "newDataframe['MiscFeature'] = newDataframe['MiscFeature'].replace(np.nan, \"None\")\n"
   ]
  },
  {
   "cell_type": "code",
   "execution_count": 30,
   "id": "cc570df9",
   "metadata": {},
   "outputs": [
    {
     "data": {
      "text/plain": [
       "\"\\nStreetEncoder = oneHotEncoder.fit_transform(newDataframe[['Street']]).toarray()\\npd.DataFrame(StreetEncoder, columns = np.array(oneHotEncoder.categories_).ravel())\\npd.concat([newDataframe, pd.DataFrame(StreetEncoder, columns = np.array(oneHotEncoder.categories_).ravel())], axis=1)\\n\""
      ]
     },
     "execution_count": 30,
     "metadata": {},
     "output_type": "execute_result"
    }
   ],
   "source": [
    "#Street\n",
    "\"\"\"\n",
    "StreetEncoder = oneHotEncoder.fit_transform(newDataframe[['Street']]).toarray()\n",
    "pd.DataFrame(StreetEncoder, columns = np.array(oneHotEncoder.categories_).ravel())\n",
    "pd.concat([newDataframe, pd.DataFrame(StreetEncoder, columns = np.array(oneHotEncoder.categories_).ravel())], axis=1)\n",
    "\"\"\"\n",
    "#Alley\n",
    "#LotConfig\n",
    "#Neighborhood\n",
    "#Condition1\n",
    "#Condition2\n",
    "#BldgType\n",
    "#RoofStyle\n",
    "#RoofMatl\n",
    "#Exterior1st\n",
    "#Exterior2nd\n",
    "#MasVnrType\n",
    "#Foundation\n",
    "#Heating\n",
    "#CentralAir\n",
    "#GarageType\n",
    "#MiscFeature\n",
    "#SaleType\n",
    "#SaleCondition"
   ]
  },
  {
   "cell_type": "code",
   "execution_count": 31,
   "id": "ceeb7912",
   "metadata": {},
   "outputs": [
    {
     "ename": "TypeError",
     "evalue": "can only concatenate str (not \"float\") to str",
     "output_type": "error",
     "traceback": [
      "\u001b[0;31m---------------------------------------------------------------------------\u001b[0m",
      "\u001b[0;31mTypeError\u001b[0m                                 Traceback (most recent call last)",
      "\u001b[0;32m/tmp/ipykernel_71431/1450947140.py\u001b[0m in \u001b[0;36m<module>\u001b[0;34m\u001b[0m\n\u001b[1;32m     88\u001b[0m \u001b[0mcol\u001b[0m \u001b[0;34m=\u001b[0m \u001b[0;34m\"MiscFeature\"\u001b[0m\u001b[0;34m\u001b[0m\u001b[0;34m\u001b[0m\u001b[0m\n\u001b[1;32m     89\u001b[0m \u001b[0mMiscFeatureEncoder\u001b[0m \u001b[0;34m=\u001b[0m \u001b[0moneHotEncoder\u001b[0m\u001b[0;34m.\u001b[0m\u001b[0mfit_transform\u001b[0m\u001b[0;34m(\u001b[0m\u001b[0mnewDataframe\u001b[0m\u001b[0;34m[\u001b[0m\u001b[0;34m[\u001b[0m\u001b[0mcol\u001b[0m\u001b[0;34m]\u001b[0m\u001b[0;34m]\u001b[0m\u001b[0;34m)\u001b[0m\u001b[0;34m.\u001b[0m\u001b[0mtoarray\u001b[0m\u001b[0;34m(\u001b[0m\u001b[0;34m)\u001b[0m\u001b[0;34m\u001b[0m\u001b[0;34m\u001b[0m\u001b[0m\n\u001b[0;32m---> 90\u001b[0;31m \u001b[0mnewDataframe\u001b[0m \u001b[0;34m=\u001b[0m \u001b[0mpd\u001b[0m\u001b[0;34m.\u001b[0m\u001b[0mconcat\u001b[0m\u001b[0;34m(\u001b[0m\u001b[0;34m[\u001b[0m\u001b[0mnewDataframe\u001b[0m\u001b[0;34m,\u001b[0m \u001b[0mpd\u001b[0m\u001b[0;34m.\u001b[0m\u001b[0mDataFrame\u001b[0m\u001b[0;34m(\u001b[0m\u001b[0mMiscFeatureEncoder\u001b[0m\u001b[0;34m,\u001b[0m \u001b[0mcolumns\u001b[0m \u001b[0;34m=\u001b[0m \u001b[0;34m[\u001b[0m\u001b[0mcol\u001b[0m \u001b[0;34m+\u001b[0m \u001b[0;34m\"_\"\u001b[0m\u001b[0;34m]\u001b[0m \u001b[0;34m+\u001b[0m \u001b[0mnp\u001b[0m\u001b[0;34m.\u001b[0m\u001b[0marray\u001b[0m\u001b[0;34m(\u001b[0m\u001b[0moneHotEncoder\u001b[0m\u001b[0;34m.\u001b[0m\u001b[0mcategories_\u001b[0m\u001b[0;34m)\u001b[0m\u001b[0;34m.\u001b[0m\u001b[0mravel\u001b[0m\u001b[0;34m(\u001b[0m\u001b[0;34m)\u001b[0m\u001b[0;34m)\u001b[0m\u001b[0;34m]\u001b[0m\u001b[0;34m,\u001b[0m \u001b[0maxis\u001b[0m\u001b[0;34m=\u001b[0m\u001b[0;36m1\u001b[0m\u001b[0;34m)\u001b[0m\u001b[0;34m\u001b[0m\u001b[0;34m\u001b[0m\u001b[0m\n\u001b[0m\u001b[1;32m     91\u001b[0m \u001b[0mnewDataframe\u001b[0m \u001b[0;34m=\u001b[0m \u001b[0mnewDataframe\u001b[0m\u001b[0;34m.\u001b[0m\u001b[0mdrop\u001b[0m\u001b[0;34m(\u001b[0m\u001b[0;34m[\u001b[0m\u001b[0mcol\u001b[0m\u001b[0;34m]\u001b[0m\u001b[0;34m,\u001b[0m \u001b[0maxis\u001b[0m\u001b[0;34m=\u001b[0m\u001b[0;36m1\u001b[0m\u001b[0;34m)\u001b[0m\u001b[0;34m\u001b[0m\u001b[0;34m\u001b[0m\u001b[0m\n\u001b[1;32m     92\u001b[0m \u001b[0;31m#SaleType\u001b[0m\u001b[0;34m\u001b[0m\u001b[0;34m\u001b[0m\u001b[0m\n",
      "\u001b[0;31mTypeError\u001b[0m: can only concatenate str (not \"float\") to str"
     ]
    }
   ],
   "source": [
    "oneHotEncoder = OneHotEncoder()\n",
    "#MSZning\n",
    "col = \"MSZoning\"\n",
    "mSZoningEncoder = oneHotEncoder.fit_transform(newDataframe[[col]]).toarray()\n",
    "newDataframe = pd.concat([newDataframe, pd.DataFrame(mSZoningEncoder, columns = [col + \"_\"] + np.array(oneHotEncoder.categories_).ravel())], axis=1)\n",
    "newDataframe = newDataframe.drop([col], axis=1)\n",
    "#Street\n",
    "col = \"Street\"\n",
    "StreetEncoder = oneHotEncoder.fit_transform(newDataframe[[col]]).toarray()\n",
    "newDataframe = pd.concat([newDataframe, pd.DataFrame(StreetEncoder, columns = [col + \"_\"] + np.array(oneHotEncoder.categories_).ravel())], axis=1)\n",
    "newDataframe = newDataframe.drop([col], axis=1)\n",
    "#Alley\n",
    "col = \"Alley\"\n",
    "AlleyEncoder = oneHotEncoder.fit_transform(newDataframe[[col]]).toarray()\n",
    "newDataframe = pd.concat([newDataframe, pd.DataFrame(AlleyEncoder, columns = [col + \"_\"] + np.array(oneHotEncoder.categories_).ravel())], axis=1)\n",
    "newDataframe = newDataframe.drop([col], axis=1)\n",
    "#LotConfig\n",
    "col = \"LotConfig\"\n",
    "LotConfigEncoder = oneHotEncoder.fit_transform(newDataframe[[col]]).toarray()\n",
    "newDataframe = pd.concat([newDataframe, pd.DataFrame(LotConfigEncoder, columns = [col + \"_\"] + np.array(oneHotEncoder.categories_).ravel())], axis=1)\n",
    "newDataframe = newDataframe.drop([col], axis=1)\n",
    "#Neighborhood\n",
    "col = \"Neighborhood\"\n",
    "NeighborhoodEncoder = oneHotEncoder.fit_transform(newDataframe[[col]]).toarray()\n",
    "newDataframe = pd.concat([newDataframe, pd.DataFrame(NeighborhoodEncoder, columns = [col + \"_\"] + np.array(oneHotEncoder.categories_).ravel())], axis=1)\n",
    "newDataframe = newDataframe.drop([col], axis=1)\n",
    "#Condition1\n",
    "col = \"Condition1\"\n",
    "Condition1Encoder = oneHotEncoder.fit_transform(newDataframe[[col]]).toarray()\n",
    "newDataframe = pd.concat([newDataframe, pd.DataFrame(Condition1Encoder, columns = [col + \"_\"] + np.array(oneHotEncoder.categories_).ravel())], axis=1)\n",
    "newDataframe = newDataframe.drop([col], axis=1)\n",
    "#Condition2\n",
    "col = \"Condition2\"\n",
    "Condition2Encoder = oneHotEncoder.fit_transform(newDataframe[[col]]).toarray()\n",
    "newDataframe = pd.concat([newDataframe, pd.DataFrame(Condition2Encoder, columns = [col + \"_\"] + np.array(oneHotEncoder.categories_).ravel())], axis=1)\n",
    "newDataframe = newDataframe.drop([col], axis=1)\n",
    "#BldgType\n",
    "col = \"BldgType\"\n",
    "BldgTypeEncoder = oneHotEncoder.fit_transform(newDataframe[[col]]).toarray()\n",
    "newDataframe = pd.concat([newDataframe, pd.DataFrame(BldgTypeEncoder, columns = [col + \"_\"] + np.array(oneHotEncoder.categories_).ravel())], axis=1)\n",
    "newDataframe = newDataframe.drop([col], axis=1)\n",
    "#RoofStyle\n",
    "col = \"RoofStyle\"\n",
    "RoofStyleEncoder = oneHotEncoder.fit_transform(newDataframe[[col]]).toarray()\n",
    "newDataframe = pd.concat([newDataframe, pd.DataFrame(RoofStyleEncoder, columns = [col + \"_\"] + np.array(oneHotEncoder.categories_).ravel())], axis=1)\n",
    "newDataframe = newDataframe.drop([col], axis=1)\n",
    "#RoofMatl\n",
    "col = \"RoofMatl\"\n",
    "RoofMatlEncoder = oneHotEncoder.fit_transform(newDataframe[[col]]).toarray()\n",
    "newDataframe = pd.concat([newDataframe, pd.DataFrame(RoofMatlEncoder, columns = [col + \"_\"] + np.array(oneHotEncoder.categories_).ravel())], axis=1)\n",
    "newDataframe = newDataframe.drop([col], axis=1)\n",
    "#Exterior1st\n",
    "col = \"Exterior1st\"\n",
    "Exterior1stEncoder = oneHotEncoder.fit_transform(newDataframe[[col]]).toarray()\n",
    "newDataframe = pd.concat([newDataframe, pd.DataFrame(Exterior1stEncoder, columns = [col + \"_\"] + np.array(oneHotEncoder.categories_).ravel())], axis=1)\n",
    "newDataframe = newDataframe.drop([col], axis=1)\n",
    "#Exterior2nd\n",
    "col = \"Exterior2nd\"\n",
    "Exterior2ndEncoder = oneHotEncoder.fit_transform(newDataframe[[col]]).toarray()\n",
    "newDataframe = pd.concat([newDataframe, pd.DataFrame(Exterior2ndEncoder, columns = [col + \"_\"] + np.array(oneHotEncoder.categories_).ravel())], axis=1)\n",
    "newDataframe = newDataframe.drop([col], axis=1)\n",
    "#MasVnrType\n",
    "col = \"MasVnrType\"\n",
    "MasVnrTypeEncoder = oneHotEncoder.fit_transform(newDataframe[[col]]).toarray()\n",
    "newDataframe = pd.concat([newDataframe, pd.DataFrame(MasVnrTypeEncoder, columns = [col + \"_\"] + np.array(oneHotEncoder.categories_).ravel())], axis=1)\n",
    "newDataframe = newDataframe.drop([col], axis=1)\n",
    "#Foundation\n",
    "col = \"Foundation\"\n",
    "FoundationEncoder = oneHotEncoder.fit_transform(newDataframe[[col]]).toarray()\n",
    "newDataframe = pd.concat([newDataframe, pd.DataFrame(FoundationEncoder, columns = [col + \"_\"] + np.array(oneHotEncoder.categories_).ravel())], axis=1)\n",
    "newDataframe = newDataframe.drop([col], axis=1)\n",
    "#Heating\n",
    "col = \"Heating\"\n",
    "HeatingEncoder = oneHotEncoder.fit_transform(newDataframe[[col]]).toarray()\n",
    "newDataframe = pd.concat([newDataframe, pd.DataFrame(HeatingEncoder, columns = [col + \"_\"] + np.array(oneHotEncoder.categories_).ravel())], axis=1)\n",
    "newDataframe = newDataframe.drop([col], axis=1)\n",
    "#CentralAir\n",
    "col = \"CentralAir\"\n",
    "CentralAirEncoder = oneHotEncoder.fit_transform(newDataframe[[col]]).toarray()\n",
    "newDataframe = pd.concat([newDataframe, pd.DataFrame(CentralAirEncoder, columns = [col + \"_\"] + np.array(oneHotEncoder.categories_).ravel())], axis=1)\n",
    "newDataframe = newDataframe.drop([col], axis=1)\n",
    "#GarageType\n",
    "col = \"GarageType\"\n",
    "GarageTypeEncoder = oneHotEncoder.fit_transform(newDataframe[[col]]).toarray()\n",
    "newDataframe = pd.concat([newDataframe, pd.DataFrame(GarageTypeEncoder, columns = [col + \"_\"] + np.array(oneHotEncoder.categories_).ravel())], axis=1)\n",
    "newDataframe = newDataframe.drop([col], axis=1)\n",
    "#MiscFeature\n",
    "col = \"MiscFeature\"\n",
    "MiscFeatureEncoder = oneHotEncoder.fit_transform(newDataframe[[col]]).toarray()\n",
    "newDataframe = pd.concat([newDataframe, pd.DataFrame(MiscFeatureEncoder, columns = [col + \"_\"] + np.array(oneHotEncoder.categories_).ravel())], axis=1)\n",
    "newDataframe = newDataframe.drop([col], axis=1)\n",
    "#SaleType\n",
    "col = \"SaleType\"\n",
    "SaleTypeEncoder = oneHotEncoder.fit_transform(newDataframe[[col]]).toarray()\n",
    "newDataframe = pd.concat([newDataframe, pd.DataFrame(SaleTypeEncoder, columns = [col + \"_\"] + np.array(oneHotEncoder.categories_).ravel())], axis=1)\n",
    "newDataframe = newDataframe.drop([col], axis=1)\n",
    "#SaleCondition\n",
    "col = \"SaleCondition\"\n",
    "SaleConditionEncoder = oneHotEncoder.fit_transform(newDataframe[[col]]).toarray()\n",
    "newDataframe = pd.concat([newDataframe, pd.DataFrame(SaleConditionEncoder, columns = [col + \"_\"] + np.array(oneHotEncoder.categories_).ravel())], axis=1)\n",
    "newDataframe = newDataframe.drop([col], axis=1)\n",
    "newDataframe"
   ]
  },
  {
   "cell_type": "code",
   "execution_count": 32,
   "id": "d8f15ef6",
   "metadata": {},
   "outputs": [
    {
     "ename": "NameError",
     "evalue": "name 'df' is not defined",
     "output_type": "error",
     "traceback": [
      "\u001b[0;31m---------------------------------------------------------------------------\u001b[0m",
      "\u001b[0;31mNameError\u001b[0m                                 Traceback (most recent call last)",
      "\u001b[0;32m/tmp/ipykernel_71431/2039824974.py\u001b[0m in \u001b[0;36m<module>\u001b[0;34m\u001b[0m\n\u001b[0;32m----> 1\u001b[0;31m \u001b[0mprint\u001b[0m\u001b[0;34m(\u001b[0m\u001b[0mdf\u001b[0m\u001b[0;34m.\u001b[0m\u001b[0mhead\u001b[0m\u001b[0;34m(\u001b[0m\u001b[0;34m)\u001b[0m\u001b[0;34m)\u001b[0m\u001b[0;34m\u001b[0m\u001b[0;34m\u001b[0m\u001b[0m\n\u001b[0m\u001b[1;32m      2\u001b[0m \u001b[0mnewDataframe\u001b[0m\u001b[0;34m.\u001b[0m\u001b[0minfo\u001b[0m\u001b[0;34m(\u001b[0m\u001b[0mshow_counts\u001b[0m\u001b[0;34m=\u001b[0m\u001b[0;32mFalse\u001b[0m\u001b[0;34m)\u001b[0m\u001b[0;34m\u001b[0m\u001b[0;34m\u001b[0m\u001b[0m\n\u001b[1;32m      3\u001b[0m \u001b[0mprint\u001b[0m\u001b[0;34m(\u001b[0m\u001b[0mtype\u001b[0m\u001b[0;34m(\u001b[0m\u001b[0mdataframe\u001b[0m\u001b[0;34m)\u001b[0m\u001b[0;34m)\u001b[0m\u001b[0;34m\u001b[0m\u001b[0;34m\u001b[0m\u001b[0m\n\u001b[1;32m      4\u001b[0m \u001b[0mprint\u001b[0m\u001b[0;34m(\u001b[0m\u001b[0mtype\u001b[0m\u001b[0;34m(\u001b[0m\u001b[0mnewDataframe\u001b[0m\u001b[0;34m)\u001b[0m\u001b[0;34m)\u001b[0m\u001b[0;34m\u001b[0m\u001b[0;34m\u001b[0m\u001b[0m\n",
      "\u001b[0;31mNameError\u001b[0m: name 'df' is not defined"
     ]
    }
   ],
   "source": [
    "print(df.head())\n",
    "newDataframe.info(show_counts=False)\n",
    "print(type(dataframe))\n",
    "print(type(newDataframe))"
   ]
  },
  {
   "cell_type": "code",
   "execution_count": 33,
   "id": "9e376919",
   "metadata": {},
   "outputs": [
    {
     "name": "stdout",
     "output_type": "stream",
     "text": [
      "<class 'pandas.core.frame.DataFrame'>\n",
      "RangeIndex: 1460 entries, 0 to 1459\n",
      "Columns: 196 entries, Id to GarageType_None\n",
      "dtypes: float64(135), int64(35), object(26)\n",
      "memory usage: 2.2+ MB\n"
     ]
    }
   ],
   "source": [
    "newDataframe.info(show_counts=False)"
   ]
  },
  {
   "cell_type": "code",
   "execution_count": 171,
   "id": "71d0218b",
   "metadata": {},
   "outputs": [],
   "source": [
    "#OrdinalEncoder\n",
    "#LotShape\n",
    "lotShapeEncoder = ce.OrdinalEncoder(cols='LotShape', mapping=[{ \"col\":\"LotShape\", \"mapping\":{'IR3':0, 'IR2':1, 'IR1':2, 'Reg':3}}]) \n",
    "newDataframe = lotShapeEncoder.fit_transform(newDataframe)\n",
    "#LandContour\n",
    "landContourEencoder = ce.OrdinalEncoder(cols='LandContour', mapping=[{ \"col\":\"LandContour\", \"mapping\":{'Low':0, 'HLS':1, 'Bnk':2, 'Lvl':3}}]) \n",
    "newDataframe = landContourEencoder.fit_transform(newDataframe)\n",
    "#Utilities\n",
    "utilitiesEncoder = ce.OrdinalEncoder(cols='Utilities', mapping=[{ \"col\":\"Utilities\", \"mapping\":{'ELO':0, 'NoSeWa':1, 'NoSewr':2, 'AllPub':3}}]) \n",
    "newDataframe = utilitiesEncoder.fit_transform(newDataframe)\n",
    "#LandSlope\n",
    "landSlopeEncoder = ce.OrdinalEncoder(cols='LandSlope', mapping=[{ \"col\":\"LandSlope\", \"mapping\":{'Sev':1, 'Mod':2, 'Gtl':3}}]) \n",
    "newDataframe = landSlopeEncoder.fit_transform(newDataframe)\n",
    "#HouseStyle\n",
    "houseStyleEncoder = ce.OrdinalEncoder(cols='HouseStyle', mapping=[{ \"col\":\"HouseStyle\", \"mapping\":{'SFoyer':1, 'SLvl':2, '1Story':3, '1.5Unf':4, '1.5Fin':5, '2Story':6, '2.5Unf':7, '2.5Fin':8}}]) \n",
    "newDataframe = houseStyleEncoder.fit_transform(newDataframe)\n",
    "#RoofStyle ****************************\n",
    "#roofStyleEncoder = ce.OrdinalEncoder(cols='RoofStyle', mapping=[{ \"col\":\"RoofStyle\", \"mapping\":{'Shed':0, 'Gambrel':1, 'Mansard':2, 'Flat':3, 'Gable':4, 'Hip':5}}])\n",
    "#newDataframe = roofStyleEncoder.fit_transform(newDataframe)\n",
    "#ExterQual\n",
    "exterQualEncoder = ce.OrdinalEncoder(cols='ExterQual', mapping=[{ \"col\":\"ExterQual\", \"mapping\":{'Po':0, 'Fa':1, 'TA':2, 'Gd':3, 'Ex': 4}}])\n",
    "newDataframe = exterQualEncoder.fit_transform(newDataframe)\n",
    "#ExterCond\n",
    "foundationEncoder = ce.OrdinalEncoder(cols='ExterCond', mapping=[{ \"col\":\"ExterCond\", \"mapping\":{'Po':0, 'Fa':1, 'TA':2, 'Gd':3, 'Ex': 4}}])\n",
    "newDataframe = foundationEncoder.fit_transform(newDataframe)\n",
    "#BsmtQual\n",
    "bsmtQualEncoder = ce.OrdinalEncoder(cols='BsmtQual', mapping=[{ \"col\":\"BsmtQual\", \"mapping\":{'NA':0, 'Po':1, 'Fa':2, 'TA':3, 'Gd':4,'Ex':5}}])\n",
    "newDataframe = bsmtQualEncoder.fit_transform(newDataframe)\n",
    "#BsmtCond\n",
    "bsmtCondEncoder = ce.OrdinalEncoder(cols='BsmtQual', mapping=[{ \"col\":\"BsmtQual\", \"mapping\":{'NA':0, 'Po':1, 'Fa':2, 'TA':3, 'Gd':4,'Ex':5}}])\n",
    "newDataframe = bsmtCondEncoder.fit_transform(newDataframe)\n",
    "#BsmtExposure\n",
    "bsmtExposureEncoder = ce.OrdinalEncoder(cols='BsmtExposure', mapping=[{ \"col\":\"BsmtExposure\", \"mapping\":{'NA':0, 'Unf':1, 'Mn':2, 'Av':3, 'Gd':4,}}])\n",
    "newDataframe = bsmtExposureEncoder.fit_transform(newDataframe)\n",
    "#BsmtFinType1\n",
    "bsmtFinType1Encoder = ce.OrdinalEncoder(cols='BsmtFinType1', mapping=[{ \"col\":\"BsmtFinType1\", \"mapping\":{'NA':0, 'No':1, 'LwQ':2, 'Rec':3, 'BLQ':4, 'ALQ':5, 'GLQ':6}}])\n",
    "newDataframe = bsmtFinType1Encoder.fit_transform(newDataframe)\n",
    "#BsmtFinType2\n",
    "bsmtFinType2Encoder = ce.OrdinalEncoder(cols='BsmtFinType2', mapping=[{ \"col\":\"BsmtFinType2\", \"mapping\":{'NA':0, 'No':1, 'LwQ':2, 'Rec':3, 'BLQ':4, 'ALQ':5, 'GLQ':6}}])\n",
    "newDataframe = bsmtFinType2Encoder.fit_transform(newDataframe)\n",
    "#Heating ******************************** ????????? *******\n",
    "heatingEncoder = ce.OrdinalEncoder(cols='Heating', mapping=[{ \"col\":\"Heating\", \"mapping\":{'Floor':0, 'Wall':1, 'Grav':2, 'OthW':3, 'GasW':4,'GasA':5}}])\n",
    "newDataframe = heatingEncoder.fit_transform(newDataframe)\n",
    "#HeatingQC\n",
    "heatingQCEncoder = ce.OrdinalEncoder(cols='HeatingQC', mapping=[{ \"col\":\"HeatingQC\", \"mapping\":{'Po':0, 'Fa':1, 'TA':2, 'Gd':3, 'Ex':4}}])\n",
    "newDataframe = heatingQCEncoder.fit_transform(newDataframe)\n",
    "#Electrical\n",
    "electricalEncoder = ce.OrdinalEncoder(cols='Electrical', mapping=[{ \"col\":\"Electrical\", \"mapping\":{'Mix':0, 'FuseP':1, 'FuseF':2, 'FuseA':3, 'SBrkr':4}}])\n",
    "newDataframe = electricalEncoder.fit_transform(newDataframe)\n",
    "#KitchenQual\n",
    "kitchenQualEncoder = ce.OrdinalEncoder(cols='KitchenQual', mapping=[{ \"col\":\"KitchenQual\", \"mapping\":{'Po':0, 'Fa':1, 'TA':2, 'Gd':3, 'Ex':4}}])\n",
    "newDataframe = kitchenQualEncoder.fit_transform(newDataframe)\n",
    "#Functional\n",
    "functionalEncoder = ce.OrdinalEncoder(cols='Functional', mapping=[{ \"col\":\"Functional\", \"mapping\":{'Po':0, 'Fa':1, 'TA':2, 'Gd':3, 'Ex':4}}])\n",
    "newDataframe = functionalEncoder.fit_transform(newDataframe)\n",
    "#FireplaceQu\n",
    "fireplaceQuEncoder = ce.OrdinalEncoder(cols='FireplaceQu', mapping=[{ \"col\":\"FireplaceQu\", \"mapping\":{'Na':0, 'Po':1, 'Fa':2, 'Ta':3, 'Gd':4, 'Ex':5}}])\n",
    "newDataframe = fireplaceQuEncoder.fit_transform(newDataframe)\n",
    "#GarageFinish\n",
    "garageFinishEncoder = ce.OrdinalEncoder(cols='GarageFinish', mapping=[{ \"col\":\"GarageFinish\", \"mapping\":{'Na':0, 'Unf':1, 'RFn':2, 'Fin':3}}])\n",
    "newDataframe = garageFinishEncoder.fit_transform(newDataframe)\n",
    "#GarageQual\n",
    "garageQualEncoder = ce.OrdinalEncoder(cols='GarageQual', mapping=[{ \"col\":\"GarageQual\", \"mapping\":{'Na':0, 'Po':1, 'Fa':2, 'Ta':3, 'Gd':4, 'Ex':5}}])\n",
    "newDataframe = garageQualEncoder.fit_transform(newDataframe)\n",
    "#GarageCond\n",
    "garageCondEncoder = ce.OrdinalEncoder(cols='GarageCond', mapping=[{ \"col\":\"GarageCond\", \"mapping\":{'Na':0, 'Po':1, 'Fa':2, 'Ta':3, 'Gd':4, 'Ex':5}}])\n",
    "newDataframe = garageCondEncoder.fit_transform(newDataframe)\n",
    "#PavedDrive\n",
    "pavedDriveEncoder = ce.OrdinalEncoder(cols='PavedDrive', mapping=[{ \"col\":\"PavedDrive\", \"mapping\":{'N':0, 'P':1, 'Y':2}}])\n",
    "newDataframe = pavedDriveEncoder.fit_transform(newDataframe)\n",
    "#PoolQC\n",
    "poolQCEncoder = ce.OrdinalEncoder(cols='PoolQC', mapping=[{ \"col\":\"PoolQC\", \"mapping\":{'Na':0, 'Fa':1, 'Ta':2, 'Gd':3, 'Ex':4}}])\n",
    "newDataframe = poolQCEncoder.fit_transform(newDataframe)\n",
    "#Fence\n",
    "fenceEncoder = ce.OrdinalEncoder(cols='Fence', mapping=[{ \"col\":\"Fence\", \"mapping\":{'Na':0, 'MnWw':1, 'GdWo':2, 'MnPrv':3, 'GdPrv':4}}])\n",
    "newDataframe = fenceEncoder.fit_transform(newDataframe)"
   ]
  },
  {
   "cell_type": "code",
   "execution_count": 181,
   "id": "6bb3998a",
   "metadata": {},
   "outputs": [
    {
     "name": "stdout",
     "output_type": "stream",
     "text": [
      "<class 'pandas.core.frame.DataFrame'>\n",
      "RangeIndex: 1460 entries, 0 to 1459\n",
      "Columns: 176 entries, Id to Exterior2nd_Wd Shng\n",
      "dtypes: float64(110), int64(35), object(31)\n",
      "memory usage: 2.0+ MB\n"
     ]
    }
   ],
   "source": [
    "\n",
    "newDataframe.info(show_counts=False)"
   ]
  },
  {
   "cell_type": "code",
   "execution_count": 184,
   "id": "be5d249c",
   "metadata": {},
   "outputs": [
    {
     "data": {
      "text/plain": [
       "281"
      ]
     },
     "execution_count": 184,
     "metadata": {},
     "output_type": "execute_result"
    }
   ],
   "source": [
    "newDataframe['Fence'].count()"
   ]
  },
  {
   "cell_type": "code",
   "execution_count": null,
   "id": "727cbc71",
   "metadata": {},
   "outputs": [],
   "source": []
  }
 ],
 "metadata": {
  "kernelspec": {
   "display_name": "Python 3 (ipykernel)",
   "language": "python",
   "name": "python3"
  },
  "language_info": {
   "codemirror_mode": {
    "name": "ipython",
    "version": 3
   },
   "file_extension": ".py",
   "mimetype": "text/x-python",
   "name": "python",
   "nbconvert_exporter": "python",
   "pygments_lexer": "ipython3",
   "version": "3.9.7"
  }
 },
 "nbformat": 4,
 "nbformat_minor": 5
}
